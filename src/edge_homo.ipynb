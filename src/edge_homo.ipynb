{
 "cells": [
  {
   "cell_type": "code",
   "execution_count": 1,
   "metadata": {},
   "outputs": [
    {
     "name": "stderr",
     "output_type": "stream",
     "text": [
      "/Users/seiji/miniconda3/envs/a2dug/lib/python3.8/site-packages/tqdm/auto.py:21: TqdmWarning: IProgress not found. Please update jupyter and ipywidgets. See https://ipywidgets.readthedocs.io/en/stable/user_install.html\n",
      "  from .autonotebook import tqdm as notebook_tqdm\n"
     ]
    }
   ],
   "source": [
    "from utils_general import *\n",
    "from torch_geometric.utils import to_undirected, sort_edge_index, remove_self_loops, add_remaining_self_loops"
   ]
  },
  {
   "cell_type": "code",
   "execution_count": 2,
   "metadata": {},
   "outputs": [],
   "source": [
    "datasets = [\n",
    "    'cornell',\n",
    "    'texas',\n",
    "    'wisconsin',\n",
    "    'citeseer',\n",
    "    'cora_ml',\n",
    "    \"chameleon-filtered-directed\",\n",
    "    \"squirrel-filtered-directed\",\n",
    "    'genius',\n",
    "    'arxiv-year',\n",
    "    'ogbn-arxiv',\n",
    "    'snap-patents',\n",
    "    'pokec',\n",
    "    'wiki',\n",
    "]\n",
    "base_dir = \"../\"\n",
    "class Args:\n",
    "    def __init__(self, dataset):\n",
    "        self.dataset = dataset"
   ]
  },
  {
   "cell_type": "code",
   "execution_count": 3,
   "metadata": {},
   "outputs": [
    {
     "name": "stdout",
     "output_type": "stream",
     "text": [
      "cornell, Ratio of edges connected in the same class: 0.131\n",
      "texas, Ratio of edges connected in the same class: 0.108\n",
      "wisconsin, Ratio of edges connected in the same class: 0.196\n",
      "citeseer, Ratio of edges connected in the same class: 0.746\n",
      "cora_ml, Ratio of edges connected in the same class: 0.792\n",
      "Preparing data...\n",
      "chameleon-filtered-directed, Ratio of edges connected in the same class: 0.247\n",
      "Preparing data...\n",
      "squirrel-filtered-directed, Ratio of edges connected in the same class: 0.217\n",
      "genius, Ratio of edges connected in the same class: 0.618\n",
      "arxiv-year, Ratio of edges connected in the same class: 0.222\n",
      "ogbn-arxiv, Ratio of edges connected in the same class: 0.655\n",
      "snap-patents, Ratio of edges connected in the same class: 0.219\n",
      "pokec, Ratio of edges connected in the same class: 0.445\n",
      "edges shape: torch.Size([2, 303434860])\n",
      "features shape: 1925342\n",
      "Label shape: 1925342\n",
      "wiki, Ratio of edges connected in the same class: 0.389\n"
     ]
    }
   ],
   "source": [
    "for dataset in datasets:\n",
    "    args = Args(dataset)\n",
    "    edge_index, _, _, label = load_graph(args, base_dir)\n",
    "    same_class_ratio = (label[edge_index[0]] == label[edge_index[1]]).sum() / len(edge_index[0])\n",
    "    print(f\"{args.dataset}, Ratio of edges connected in the same class: {round(same_class_ratio.item(), 3)}\")"
   ]
  }
 ],
 "metadata": {
  "kernelspec": {
   "display_name": "a2dug",
   "language": "python",
   "name": "python3"
  },
  "language_info": {
   "codemirror_mode": {
    "name": "ipython",
    "version": 3
   },
   "file_extension": ".py",
   "mimetype": "text/x-python",
   "name": "python",
   "nbconvert_exporter": "python",
   "pygments_lexer": "ipython3",
   "version": "3.8.16"
  }
 },
 "nbformat": 4,
 "nbformat_minor": 2
}
